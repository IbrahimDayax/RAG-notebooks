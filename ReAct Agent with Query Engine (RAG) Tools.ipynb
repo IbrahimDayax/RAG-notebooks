{
 "cells": [
  {
   "cell_type": "markdown",
   "metadata": {},
   "source": [
    "# ReAct Agent with Query Engine (RAG) Tools"
   ]
  },
  {
   "cell_type": "code",
   "execution_count": 17,
   "metadata": {},
   "outputs": [],
   "source": [
    "from llama_index.core import (\n",
    "    SimpleDirectoryReader,\n",
    "    VectorStoreIndex,\n",
    "    StorageContext,\n",
    "    load_index_from_storage,\n",
    ")\n",
    "\n",
    "from llama_index.core.tools import QueryEngineTool, ToolMetadata\n",
    "from llama_index.core import VectorStoreIndex, SimpleDirectoryReader, ServiceContext\n",
    "from llama_index.llms.azure_openai import AzureOpenAI\n",
    "from llama_index.embeddings.azure_openai import AzureOpenAIEmbedding\n",
    "from llama_index.core.settings import Settings\n",
    "from llama_index.core import VectorStoreIndex\n",
    "import os"
   ]
  },
  {
   "cell_type": "markdown",
   "metadata": {},
   "source": [
    "##  Build the Index"
   ]
  },
  {
   "cell_type": "code",
   "execution_count": 18,
   "metadata": {},
   "outputs": [],
   "source": [
    "# Azure OpenAI configuration\n",
    "llm_deployment = os.getenv(\"AZURE_OPENAI_LLM_DEPLOYMENT\")\n",
    "api_key = os.getenv(\"AZURE_OPENAI_API_KEY\")\n",
    "api_version = os.getenv(\"AZURE_OPENAI_API_VERSION\")\n",
    "azure_endpoint = os.getenv(\"AZURE_OPENAI_ENDPOINT\")\n",
    "model = \"gpt-4o\"\n",
    "temperature = 0.7\n",
    "max_tokens = 4000\n",
    "embedding_model = \"text-embedding-3-large\"\n",
    "embedding_deployment = embedding_model\n",
    "\n",
    "\n",
    "llm_config = {\n",
    "    \"api_key\": api_key,\n",
    "    \"api_version\": api_version,\n",
    "    \"azure_endpoint\": azure_endpoint,\n",
    "    \"deployment_name\": llm_deployment,\n",
    "    \"model\": model,\n",
    "    \"temperature\": temperature,\n",
    "    \"max_tokens\": int(max_tokens) if max_tokens is not None else None\n",
    "}\n",
    "\n",
    "embedding_config = {\n",
    "    \"api_key\": api_key,\n",
    "    \"api_version\": api_version,\n",
    "    \"azure_endpoint\": azure_endpoint,\n",
    "    \"deployment_name\": embedding_deployment,\n",
    "    \"model\": embedding_model,\n",
    "    \"dimensions\": 1024\n",
    "}\n",
    "\n",
    "# Set up LLM and embedding models\n",
    "Settings.embed_model = AzureOpenAIEmbedding(**embedding_config)\n",
    "Settings.llm = AzureOpenAI(**llm_config)\n",
    "\n",
    "# (Optional) If you want to load your own Excel files, you can implement the following code.\n",
    "# For example, for a specific Excel file:\n",
    "# if not index_loaded:\n",
    "# Load your data (e.g., replace with your actual files)\n",
    "excel_files = [\n",
    "    './data/BP_Excel.xlsx',\n",
    "    './data/nvidia_quarterly_revenue_trend_by_market.xlsx',\n",
    "    './data/titanic_train.csv',\n",
    "    # Add more files as needed\n",
    "]\n",
    "\n",
    "docs = SimpleDirectoryReader(input_files=excel_files).load_data()\n",
    "\n",
    "# Build index\n",
    "index = VectorStoreIndex.from_documents(docs)\n",
    "\n",
    "# Persist index\n",
    "index.storage_context.persist(persist_dir=\"./data\")\n"
   ]
  },
  {
   "cell_type": "markdown",
   "metadata": {},
   "source": [
    "## Build the Query Engine"
   ]
  },
  {
   "cell_type": "code",
   "execution_count": 19,
   "metadata": {},
   "outputs": [],
   "source": [
    "# Create a query engine\n",
    "query_engine = index.as_query_engine(similarity_top_k=3)\n",
    "\n",
    "# Setup Query Engine Tool\n",
    "query_engine_tools = [\n",
    "    QueryEngineTool(\n",
    "        query_engine=query_engine,\n",
    "        metadata=ToolMetadata(\n",
    "            name=\"excel_query\",\n",
    "            description=(\n",
    "                \"Provides information based on the provided Excel files. \"\n",
    "                \"Use a detailed plain text question as input to the tool.\"\n",
    "            ),\n",
    "        ),\n",
    "    ),\n",
    "]"
   ]
  },
  {
   "cell_type": "markdown",
   "metadata": {},
   "source": [
    "## Setup ReAct Agent"
   ]
  },
  {
   "cell_type": "code",
   "execution_count": 20,
   "metadata": {},
   "outputs": [],
   "source": [
    "from llama_index.core.agent import ReActAgent\n",
    "\n",
    "agent = ReActAgent.from_tools(\n",
    "    query_engine_tools,\n",
    "    llm=Settings.llm,\n",
    "    verbose=True\n",
    ")\n"
   ]
  },
  {
   "cell_type": "markdown",
   "metadata": {},
   "source": [
    "## Run Some Example Queries"
   ]
  },
  {
   "cell_type": "code",
   "execution_count": 21,
   "metadata": {},
   "outputs": [
    {
     "name": "stdout",
     "output_type": "stream",
     "text": [
      "> Running step 08732cff-a4c3-4650-ba67-248350e430b9. Step input: What insights can you provide from the BP Excel file?\n",
      "\u001b[1;3;38;5;200mThought: The current language of the user is English. I need to use a tool to help me answer the question.\n",
      "Action: excel_query\n",
      "Action Input: {'input': 'Please provide insights from the BP Excel file.'}\n",
      "\u001b[0m\u001b[1;3;34mObservation: The BP Excel file provides a detailed overview of their financial and operational performance. Key insights include:\n",
      "\n",
      "1. **Margin Share**: The margin share from convenience and electrification has shown a gradual increase, reaching 0.291 in the latest period.\n",
      "2. **Sales and Revenues**: Total customers and products sales and other revenues have shown variability with significant figures for Castrol and other convenience and mobility, refining and trading, and petrochemicals.\n",
      "3. **Average Realizations**: The average realizations for oil and gas have fluctuated, with notable changes in total liquids and natural gas prices over the quarters.\n",
      "4. **Production Costs**: Upstream unit production costs have generally decreased over time, reflecting improved efficiency.\n",
      "5. **Plant Reliability**: BP-operated upstream plant reliability has remained consistently high, around 95% to 96%.\n",
      "6. **Finding and Development Costs**: These costs have increased over the years, with finding costs and production costs presented as averages.\n",
      "7. **Restated Financial Information**: The financial and operational data for the year 2020 has been restated to reflect BP’s new organizational structure effective from January 2021.\n",
      "\n",
      "These data points provide a comprehensive picture of BP's financial health, operational efficiency, and strategic focus areas.\n",
      "\u001b[0m> Running step 404699bd-1cd7-48e8-a539-7ce51b0f14a5. Step input: None\n",
      "\u001b[1;3;38;5;200mThought: I can answer without using any more tools. I'll use the user's language to answer.\n",
      "Answer: The BP Excel file provides several key insights into their financial and operational performance:\n",
      "\n",
      "1. **Margin Share**: There has been a gradual increase in margin share from convenience and electrification, reaching 0.291 in the latest period.\n",
      "2. **Sales and Revenues**: Sales and revenue figures show variability, with significant contributions from Castrol, other convenience and mobility, refining and trading, and petrochemicals.\n",
      "3. **Average Realizations**: Average realizations for oil and gas have fluctuated, with notable changes in total liquids and natural gas prices over the quarters.\n",
      "4. **Production Costs**: Upstream unit production costs have generally decreased over time, indicating improved efficiency.\n",
      "5. **Plant Reliability**: BP-operated upstream plant reliability has remained consistently high, around 95% to 96%.\n",
      "6. **Finding and Development Costs**: These costs have increased over the years, with averages presented for finding and production costs.\n",
      "7. **Restated Financial Information**: Financial and operational data for 2020 has been restated to reflect BP’s new organizational structure effective from January 2021.\n",
      "\n",
      "These insights provide a comprehensive view of BP's financial health, operational efficiency, and strategic focus areas.\n",
      "\u001b[0mThe BP Excel file provides several key insights into their financial and operational performance:\n",
      "\n",
      "1. **Margin Share**: There has been a gradual increase in margin share from convenience and electrification, reaching 0.291 in the latest period.\n",
      "2. **Sales and Revenues**: Sales and revenue figures show variability, with significant contributions from Castrol, other convenience and mobility, refining and trading, and petrochemicals.\n",
      "3. **Average Realizations**: Average realizations for oil and gas have fluctuated, with notable changes in total liquids and natural gas prices over the quarters.\n",
      "4. **Production Costs**: Upstream unit production costs have generally decreased over time, indicating improved efficiency.\n",
      "5. **Plant Reliability**: BP-operated upstream plant reliability has remained consistently high, around 95% to 96%.\n",
      "6. **Finding and Development Costs**: These costs have increased over the years, with averages presented for finding and production costs.\n",
      "7. **Restated Financial Information**: Financial and operational data for 2020 has been restated to reflect BP’s new organizational structure effective from January 2021.\n",
      "\n",
      "These insights provide a comprehensive view of BP's financial health, operational efficiency, and strategic focus areas.\n",
      "> Running step f026f344-a163-4a40-b5db-ed3570c5f426. Step input: Analyze the quarterly revenue trends for Nvidia.\n",
      "\u001b[1;3;38;5;200mThought: The current language of the user is English. I need to use a tool to help me analyze the quarterly revenue trends for Nvidia.\n",
      "Action: excel_query\n",
      "Action Input: {'input': 'Analyze the quarterly revenue trends for Nvidia.'}\n",
      "\u001b[0m\u001b[1;3;34mObservation: Nvidia's quarterly revenue trends show a significant increase over the periods observed. Starting from Q1 FY23 to Q1 FY25, there is a noticeable growth in total revenue. The Data Center segment experienced the most dramatic increase, growing from $3,806 million in Q2 FY23 to $22,563 million in Q1 FY25. The Gaming segment also saw growth, although at a slower rate, increasing from $2,042 million in Q2 FY23 to $2,647 million in Q1 FY25. Other segments such as Professional Visualization, Auto, and OEM & Other showed fluctuations but contributed less significantly to the total revenue compared to the Data Center and Gaming segments. Overall, Nvidia's revenue trend indicates strong performance, particularly driven by substantial gains in the Data Center sector.\n",
      "\u001b[0m> Running step 8f5b3f59-6b57-4f08-9628-1718a73735cf. Step input: None\n",
      "\u001b[1;3;38;5;200mThought: I can answer without using any more tools. I'll use the user's language to answer.\n",
      "Answer: Nvidia's quarterly revenue trends indicate a significant increase from Q1 FY23 to Q1 FY25. The most substantial growth is observed in the Data Center segment, which rose dramatically from $3,806 million in Q2 FY23 to $22,563 million in Q1 FY25. The Gaming segment also experienced growth, albeit at a slower pace, from $2,042 million in Q2 FY23 to $2,647 million in Q1 FY25. Other segments like Professional Visualization, Auto, and OEM & Other showed some fluctuations but contributed less to the overall revenue compared to the Data Center and Gaming segments. Overall, Nvidia's revenue trends reflect strong performance, primarily driven by substantial gains in the Data Center sector.\n",
      "\u001b[0mNvidia's quarterly revenue trends indicate a significant increase from Q1 FY23 to Q1 FY25. The most substantial growth is observed in the Data Center segment, which rose dramatically from $3,806 million in Q2 FY23 to $22,563 million in Q1 FY25. The Gaming segment also experienced growth, albeit at a slower pace, from $2,042 million in Q2 FY23 to $2,647 million in Q1 FY25. Other segments like Professional Visualization, Auto, and OEM & Other showed some fluctuations but contributed less to the overall revenue compared to the Data Center and Gaming segments. Overall, Nvidia's revenue trends reflect strong performance, primarily driven by substantial gains in the Data Center sector.\n"
     ]
    }
   ],
   "source": [
    "response = agent.chat(\"What insights can you provide from the BP Excel file?\")\n",
    "print(str(response))\n",
    "\n",
    "response = agent.chat(\"Analyze the quarterly revenue trends for Nvidia.\")\n",
    "print(str(response))\n",
    "\n",
    "# You can continue to run queries based on the files you have in the 'data' directory."
   ]
  }
 ],
 "metadata": {
  "kernelspec": {
   "display_name": "jupyter",
   "language": "python",
   "name": "python3"
  },
  "language_info": {
   "codemirror_mode": {
    "name": "ipython",
    "version": 3
   },
   "file_extension": ".py",
   "mimetype": "text/x-python",
   "name": "python",
   "nbconvert_exporter": "python",
   "pygments_lexer": "ipython3",
   "version": "3.11.2"
  }
 },
 "nbformat": 4,
 "nbformat_minor": 2
}
