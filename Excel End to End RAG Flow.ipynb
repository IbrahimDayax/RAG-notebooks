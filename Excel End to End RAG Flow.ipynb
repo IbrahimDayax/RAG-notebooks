{
 "cells": [
  {
   "cell_type": "code",
   "execution_count": null,
   "id": "fbc93fff-2ecc-4c9d-9c60-538360d4ba9b",
   "metadata": {},
   "outputs": [],
   "source": [
    "# !pip install llama_index.llms.azure_openai\n",
    "# !pip install llama_index.embeddings.azure_openai\n",
    "# !pip install python-dotenv\n",
    "# !pip install pymupdf\n",
    "# !pip install azure\n",
    "# !pip install azure-ai-documentintelligence\n",
    "# !pip install surya-ocr\n",
    "# !pip install pytesseract\n",
    "# !pip install pandas\n",
    "# !pip install llama-index llama-index-experimental"
   ]
  },
  {
   "cell_type": "markdown",
   "id": "f13ad831-053d-4cc1-ae8a-9e8c63be584b",
   "metadata": {},
   "source": [
    "\n",
    "\n",
    "# Excel RAG Flow"
   ]
  },
  {
   "cell_type": "code",
   "execution_count": null,
   "id": "5e1fc9c6-3f42-4625-8cf7-589f658c6ea9",
   "metadata": {},
   "outputs": [],
   "source": [
    "# Import necessary libraries\n",
    "import logging\n",
    "import sys\n",
    "from IPython.display import Markdown, display\n",
    "import pandas as pd\n",
    "from llama_index.experimental.query_engine import PandasQueryEngine\n",
    "\n",
    "# Configure logging to display information messages on the console\n",
    "logging.basicConfig(stream=sys.stdout, level=logging.INFO)\n",
    "logging.getLogger().addHandler(logging.StreamHandler(stream=sys.stdout))\n",
    "\n",
    "# Create a sample DataFrame with city names and populations\n",
    "df = pd.DataFrame(\n",
    "    {\n",
    "        \"city\": [\"Toronto\", \"Tokyo\", \"Berlin\"],\n",
    "        \"population\": [2930000, 13960000, 3645000],\n",
    "    }\n",
    ")\n",
    "\n",
    "# Initialize a PandasQueryEngine with the DataFrame and enable verbose mode\n",
    "query_engine = PandasQueryEngine(df=df, verbose=True)\n",
    "\n",
    "# Query the DataFrame for the city with the highest population\n",
    "response = query_engine.query(\n",
    "    \"What is the city with the highest population?\",\n",
    ")\n",
    "\n",
    "# Display the response using Markdown in Jupyter Notebook\n",
    "display(Markdown(f\"{response}\"))\n",
    "\n",
    "# Print the pandas instruction string from the response metadata\n",
    "print(response.metadata[\"pandas_instruction_str\"])\n"
   ]
  },
  {
   "cell_type": "code",
   "execution_count": null,
   "id": "70aabeb9-f789-4eb8-b342-0d35aaf3fd82",
   "metadata": {},
   "outputs": [],
   "source": [
    "# Initialize a new PandasQueryEngine with DataFrame and enable response synthesis\n",
    "query_engine = PandasQueryEngine(df=df, verbose=True, synthesize_response=True)\n",
    "\n",
    "# Query the DataFrame for the city with the highest population and its population value\n",
    "response = query_engine.query(\n",
    "    \"What is the city with the highest population? Give both the city and population\",\n",
    ")\n",
    "\n",
    "# Print the response\n",
    "print(str(response))\n"
   ]
  },
  {
   "cell_type": "code",
   "execution_count": null,
   "id": "0358ad57-81f2-444b-8783-d67952c805f6",
   "metadata": {},
   "outputs": [],
   "source": [
    "# Read a CSV file containing Titanic data into a new DataFrame\n",
    "df = pd.read_csv(\"./data/titanic_train.csv\")\n",
    "\n",
    "# Initialize a PandasQueryEngine with the Titanic DataFrame and enable verbose mode\n",
    "query_engine = PandasQueryEngine(df=df, verbose=True)\n",
    "\n",
    "# Query the Titanic DataFrame for the correlation between survival and age\n",
    "response = query_engine.query(\n",
    "    \"What is the correlation between survival and age?\",\n",
    ")\n",
    "\n",
    "# Display the response using Markdown in Jupyter Notebook\n",
    "display(Markdown(f\"{response}\"))\n",
    "\n",
    "# get pandas python instructions\n",
    "print(response.metadata[\"pandas_instruction_str\"])"
   ]
  }
 ],
 "metadata": {
  "kernelspec": {
   "display_name": "Python 3 (ipykernel)",
   "language": "python",
   "name": "python3"
  },
  "language_info": {
   "codemirror_mode": {
    "name": "ipython",
    "version": 3
   },
   "file_extension": ".py",
   "mimetype": "text/x-python",
   "name": "python",
   "nbconvert_exporter": "python",
   "pygments_lexer": "ipython3",
   "version": "3.12.3"
  }
 },
 "nbformat": 4,
 "nbformat_minor": 5
}
