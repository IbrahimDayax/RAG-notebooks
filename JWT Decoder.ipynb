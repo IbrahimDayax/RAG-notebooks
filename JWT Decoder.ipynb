{
 "cells": [
  {
   "cell_type": "markdown",
   "metadata": {},
   "source": [
    "## Tool Function to Extract User Information from JWT"
   ]
  },
  {
   "cell_type": "code",
   "execution_count": 1,
   "metadata": {},
   "outputs": [],
   "source": [
    "import jwt\n",
    "from typing import Dict\n",
    "\n",
    "def extract_user_info_from_jwt(token: str) -> Dict[str, str]:\n",
    "\n",
    "    \"\"\"\n",
    "    Tool Function: Extract user information from JWT token\n",
    "\n",
    "    Description:\n",
    "    This function decodes the provided JWT token to retrieve user-related information such as\n",
    "    the user's name and email. It helps answer questions like \"What is my name?\" or \"What is my email?\".\n",
    "\n",
    "    The function is designed to be called within the agent tool chain to extract credentials \n",
    "    from the JWT token and pass it along to other tools or services for further processing.\n",
    "\n",
    "    Usage:\n",
    "    - Can be used when the agent needs to fetch user details, typically for authentication purposes.\n",
    "    \"\"\"\n",
    "\n",
    "    try:\n",
    "        # Replace 'your-secret-key' with your actual secret or use the public key if you're verifying a signed JWT.\n",
    "        decoded_token = jwt.decode(token, algorithms=[\"HS256\"], options={\"verify_signature\": False})\n",
    "        \n",
    "        user_info = {\n",
    "            'name': decoded_token.get('name', 'Unknown'),\n",
    "            'email': decoded_token.get('email', 'Unknown')\n",
    "        }\n",
    "        \n",
    "        return user_info\n",
    "    except jwt.ExpiredSignatureError:\n",
    "        return {'error': 'Token has expired'}\n",
    "    except jwt.InvalidTokenError:\n",
    "        return {'error': 'Invalid token'}\n",
    "\n"
   ]
  },
  {
   "cell_type": "markdown",
   "metadata": {},
   "source": [
    "## Dummy Tool Function for Testing\n",
    "### a simple dummy function that accepts an email and returns a random number (like leave balance):"
   ]
  },
  {
   "cell_type": "code",
   "execution_count": 2,
   "metadata": {},
   "outputs": [],
   "source": [
    "import random\n",
    "\n",
    "def get_leave_balance_by_email(email: str) -> int:\n",
    "    \"\"\"\n",
    "    Dummy function that returns a random leave balance for a given email.\n",
    "    \n",
    "    Args:\n",
    "    - email (str): The user's email address.\n",
    "    \n",
    "    Returns:\n",
    "    - int: A random number representing the leave balance.\n",
    "    \"\"\"\n",
    "    # Generate a random number between 0 and 30 for testing purposes\n",
    "    leave_balance = random.randint(0, 30)\n",
    "    return leave_balance"
   ]
  },
  {
   "cell_type": "markdown",
   "metadata": {},
   "source": [
    "## Example Usage"
   ]
  },
  {
   "cell_type": "code",
   "execution_count": null,
   "metadata": {},
   "outputs": [
    {
     "name": "stdout",
     "output_type": "stream",
     "text": [
      "{'name': 'Ibrahim Dayah', 'email': 'ibrahim.dayah@noema.net'}\n",
      "Leave balance for ibrahim.dayah@noema.net: 25\n"
     ]
    }
   ],
   "source": [
    "# Example JWT token (replace with your actual token)\n",
    "jwt_token = \"\"\n",
    "\n",
    "# Extract user info\n",
    "user_info = extract_user_info_from_jwt(jwt_token)\n",
    "print(user_info)\n",
    "\n",
    "# Example of using the dummy function\n",
    "email = user_info.get('email', 'test@example.com')\n",
    "leave_balance = get_leave_balance_by_email(email)\n",
    "print(f\"Leave balance for {email}: {leave_balance}\")\n"
   ]
  }
 ],
 "metadata": {
  "kernelspec": {
   "display_name": "jupyter",
   "language": "python",
   "name": "python3"
  },
  "language_info": {
   "codemirror_mode": {
    "name": "ipython",
    "version": 3
   },
   "file_extension": ".py",
   "mimetype": "text/x-python",
   "name": "python",
   "nbconvert_exporter": "python",
   "pygments_lexer": "ipython3",
   "version": "3.11.2"
  }
 },
 "nbformat": 4,
 "nbformat_minor": 2
}
